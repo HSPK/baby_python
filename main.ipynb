{
 "cells": [
  {
   "attachments": {},
   "cell_type": "markdown",
   "metadata": {},
   "source": [
    "# 变量和数据类型"
   ]
  },
  {
   "cell_type": "code",
   "execution_count": 6,
   "metadata": {},
   "outputs": [
    {
     "name": "stdout",
     "output_type": "stream",
     "text": [
      "hello honey\n",
      "hello honey\n",
      "hello honey\n"
     ]
    }
   ],
   "source": [
    "honey = 'honey'\n",
    "print(f'hello {honey}')\n",
    "print('hello ' + honey)\n",
    "print('hello {v}'.format(v=honey))\n"
   ]
  },
  {
   "cell_type": "code",
   "execution_count": 17,
   "metadata": {},
   "outputs": [
    {
     "name": "stdout",
     "output_type": "stream",
     "text": [
      "apple; banana; strawberry\n"
     ]
    }
   ],
   "source": [
    "fruits = ['apple', 'banana', 'strawberry']\n",
    "print('; '.join(fruits[:]))"
   ]
  },
  {
   "cell_type": "code",
   "execution_count": 18,
   "metadata": {},
   "outputs": [
    {
     "name": "stdout",
     "output_type": "stream",
     "text": [
      "vc va vb\n"
     ]
    }
   ],
   "source": [
    "fruits_ingredients = {'apple': 'vc va vb', 'banana': 've vb'}\n",
    "print(fruits_ingredients['apple'])"
   ]
  },
  {
   "cell_type": "code",
   "execution_count": 19,
   "metadata": {},
   "outputs": [
    {
     "name": "stdout",
     "output_type": "stream",
     "text": [
      "{1, 3, 4, 5, 7, 8}\n"
     ]
    }
   ],
   "source": [
    "sids = [1, 3, 4, 5,  7, 8, 1, 4, 3, 5]\n",
    "sids_norepeat = set(sids)\n",
    "print(sids_norepeat)"
   ]
  },
  {
   "cell_type": "code",
   "execution_count": 21,
   "metadata": {},
   "outputs": [
    {
     "name": "stdout",
     "output_type": "stream",
     "text": [
      "161433.15970723232\n"
     ]
    }
   ],
   "source": [
    "b = 3698164695\n",
    "a = 67 * 89.4 + 2**7/123 + 6 // 4 + 9 % 5 + b / 23792\n",
    "print(a)"
   ]
  },
  {
   "cell_type": "code",
   "execution_count": 23,
   "metadata": {},
   "outputs": [
    {
     "name": "stdout",
     "output_type": "stream",
     "text": [
      "a is True\n"
     ]
    }
   ],
   "source": [
    "a = True\n",
    "b = False\n",
    "if a:\n",
    "    print('a is True')\n",
    "if b:\n",
    "    print('b is True')"
   ]
  },
  {
   "cell_type": "code",
   "execution_count": 24,
   "metadata": {},
   "outputs": [
    {
     "name": "stdout",
     "output_type": "stream",
     "text": [
      "not 3\n",
      "3\n",
      "not 3\n",
      "not 3\n",
      "not 3\n",
      "not 3\n",
      "not 3\n",
      "not 3\n",
      "3\n",
      "not 3\n"
     ]
    }
   ],
   "source": [
    "sids = [1, 3, 4, 5,  7, 8, 1, 4, 3, 5]\n",
    "for sid in sids:\n",
    "    if sid != 3:\n",
    "        print(sid)\n",
    "    else:\n",
    "        print('not 3')"
   ]
  },
  {
   "cell_type": "code",
   "execution_count": 35,
   "metadata": {},
   "outputs": [
    {
     "name": "stdout",
     "output_type": "stream",
     "text": [
      "4\n",
      "3\n",
      "inner 2\n",
      "inner 1\n"
     ]
    }
   ],
   "source": [
    "a = 4\n",
    "while a > 0:\n",
    "    if a <= 2:\n",
    "        print(f'inner {a}')\n",
    "        a -= 1\n",
    "        contrinue\n",
    "    print(a)\n",
    "    a -= 1\n",
    "    # a = a - 1\n"
   ]
  },
  {
   "cell_type": "code",
   "execution_count": 38,
   "metadata": {},
   "outputs": [
    {
     "name": "stdout",
     "output_type": "stream",
     "text": [
      "1, 2, 3, 4, 5, 6, 7, 8, 9, 10, 11, 12, 13, 14, 15, 16, 17, 18, 19, 20, 21, 22, 23, 24, 25, 26, 27, 28, 29, 30, 31, 32, 33, 34, 35, 36, 37, 38, 39, 40, 41, 42, 43, 44, 45, 46, 47, 48, 49, 50, 51, 52, 53, 54, 55, 56, 57, 58, 59, 60, 61, 62, 63, 64, 65, 66, 67, 68, 69, 70, 71, 72, 73, 74, 75, 76, 77, 78, 79, 80, 81, 82, 83, 84, 85, 86, 87, 88, 89, 90, 91, 92, 93, 94, 95, 96, 97, 98, 99, 100\n"
     ]
    }
   ],
   "source": [
    "a = 1\n",
    "l = []\n",
    "while a <= 100:\n",
    "    l.append(str(a))\n",
    "    a = a + 1\n",
    "print(', '.join(l))"
   ]
  },
  {
   "cell_type": "code",
   "execution_count": 49,
   "metadata": {},
   "outputs": [
    {
     "name": "stdout",
     "output_type": "stream",
     "text": [
      "range(1, 101)\n",
      "1, 2, 3, 4, 5, 6, 7, 8, 9, 10, 11, 12, 13, 14, 15, 16, 17, 18, 19, 20, 21, 22, 23, 24, 25, 26, 27, 28, 29, 30, 31, 32, 33, 34, 35, 36, 37, 38, 39, 40, 41, 42, 43, 44, 45, 46, 47, 48, 49, 50, 51, 52, 53, 54, 55, 56, 57, 58, 59, 60, 61, 62, 63, 64, 65, 66, 67, 68, 69, 70, 71, 72, 73, 74, 75, 76, 77, 78, 79, 80, 81, 82, 83, 84, 85, 86, 87, 88, 89, 90, 91, 92, 93, 94, 95, 96, 97, 98, 99, 100, ['1', '2', '3', '4', '5', '6', '7', '8', '9', '10', '11', '12', '13', '14', '15', '16', '17', '18', '19', '20', '21', '22', '23', '24', '25', '26', '27', '28', '29', '30', '31', '32', '33', '34', '35', '36', '37', '38', '39', '40', '41', '42', '43', '44', '45', '46', '47', '48', '49', '50', '51', '52', '53', '54', '55', '56', '57', '58', '59', '60', '61', '62', '63', '64', '65', '66', '67', '68', '69', '70', '71', '72', '73', '74', '75', '76', '77', '78', '79', '80', '81', '82', '83', '84', '85', '86', '87', '88', '89', '90', '91', '92', '93', '94', '95', '96', '97', '98', '99', '100']\n",
      "1, 2, 3, 4, 5, 6, 7, 8, 9, 10, 11, 12, 13, 14, 15, 16, 17, 18, 19, 20, 21, 22, 23, 24, 25, 26, 27, 28, 29, 30, 31, 32, 33, 34, 35, 36, 37, 38, 39, 40, 41, 42, 43, 44, 45, 46, 47, 48, 49, 50, 51, 52, 53, 54, 55, 56, 57, 58, 59, 60, 61, 62, 63, 64, 65, 66, 67, 68, 69, 70, 71, 72, 73, 74, 75, 76, 77, 78, 79, 80, 81, 82, 83, 84, 85, 86, 87, 88, 89, 90, 91, 92, 93, 94, 95, 96, 97, 98, 99, 100\n"
     ]
    }
   ],
   "source": [
    "print(range(1, 101))\n",
    "for i in range(1, 101):\n",
    "    print(i, end=', ')\n",
    "print([str(x) for x in range(1, 101)])\n",
    "print(', '.join([str(x) for x in range(1, 101)]))"
   ]
  },
  {
   "cell_type": "code",
   "execution_count": 53,
   "metadata": {},
   "outputs": [
    {
     "data": {
      "text/html": [
       "<div>\n",
       "<style scoped>\n",
       "    .dataframe tbody tr th:only-of-type {\n",
       "        vertical-align: middle;\n",
       "    }\n",
       "\n",
       "    .dataframe tbody tr th {\n",
       "        vertical-align: top;\n",
       "    }\n",
       "\n",
       "    .dataframe thead th {\n",
       "        text-align: right;\n",
       "    }\n",
       "</style>\n",
       "<table border=\"1\" class=\"dataframe\">\n",
       "  <thead>\n",
       "    <tr style=\"text-align: right;\">\n",
       "      <th></th>\n",
       "      <th>SeqIndex</th>\n",
       "      <th>SendTm</th>\n",
       "      <th>LocalTs</th>\n",
       "      <th>BizIndex</th>\n",
       "      <th>OrderIndex</th>\n",
       "      <th>OrderPx</th>\n",
       "      <th>OrderTm</th>\n",
       "      <th>OrderType</th>\n",
       "      <th>OrderID</th>\n",
       "      <th>OrderVol</th>\n",
       "      <th>ChannelID</th>\n",
       "      <th>Symbol</th>\n",
       "      <th>SideFlag</th>\n",
       "    </tr>\n",
       "  </thead>\n",
       "  <tbody>\n",
       "    <tr>\n",
       "      <th>0</th>\n",
       "      <td>0</td>\n",
       "      <td>0</td>\n",
       "      <td>1459502100170000000</td>\n",
       "      <td>1</td>\n",
       "      <td>1</td>\n",
       "      <td>9.00</td>\n",
       "      <td>91500170</td>\n",
       "      <td>65</td>\n",
       "      <td>74</td>\n",
       "      <td>92300.0</td>\n",
       "      <td>1</td>\n",
       "      <td>601727</td>\n",
       "      <td>66</td>\n",
       "    </tr>\n",
       "    <tr>\n",
       "      <th>1</th>\n",
       "      <td>0</td>\n",
       "      <td>0</td>\n",
       "      <td>1459502100440000000</td>\n",
       "      <td>2</td>\n",
       "      <td>2</td>\n",
       "      <td>9.00</td>\n",
       "      <td>91500440</td>\n",
       "      <td>65</td>\n",
       "      <td>198</td>\n",
       "      <td>71800.0</td>\n",
       "      <td>1</td>\n",
       "      <td>601727</td>\n",
       "      <td>66</td>\n",
       "    </tr>\n",
       "    <tr>\n",
       "      <th>2</th>\n",
       "      <td>0</td>\n",
       "      <td>0</td>\n",
       "      <td>1459502100720000000</td>\n",
       "      <td>3</td>\n",
       "      <td>3</td>\n",
       "      <td>9.44</td>\n",
       "      <td>91500720</td>\n",
       "      <td>65</td>\n",
       "      <td>486</td>\n",
       "      <td>200.0</td>\n",
       "      <td>1</td>\n",
       "      <td>601727</td>\n",
       "      <td>66</td>\n",
       "    </tr>\n",
       "    <tr>\n",
       "      <th>3</th>\n",
       "      <td>0</td>\n",
       "      <td>0</td>\n",
       "      <td>1459502100770000000</td>\n",
       "      <td>4</td>\n",
       "      <td>4</td>\n",
       "      <td>9.94</td>\n",
       "      <td>91500770</td>\n",
       "      <td>65</td>\n",
       "      <td>570</td>\n",
       "      <td>1000.0</td>\n",
       "      <td>1</td>\n",
       "      <td>601727</td>\n",
       "      <td>83</td>\n",
       "    </tr>\n",
       "    <tr>\n",
       "      <th>4</th>\n",
       "      <td>0</td>\n",
       "      <td>0</td>\n",
       "      <td>1459502100830000000</td>\n",
       "      <td>5</td>\n",
       "      <td>5</td>\n",
       "      <td>9.20</td>\n",
       "      <td>91500830</td>\n",
       "      <td>65</td>\n",
       "      <td>710</td>\n",
       "      <td>5000.0</td>\n",
       "      <td>1</td>\n",
       "      <td>601727</td>\n",
       "      <td>66</td>\n",
       "    </tr>\n",
       "    <tr>\n",
       "      <th>...</th>\n",
       "      <td>...</td>\n",
       "      <td>...</td>\n",
       "      <td>...</td>\n",
       "      <td>...</td>\n",
       "      <td>...</td>\n",
       "      <td>...</td>\n",
       "      <td>...</td>\n",
       "      <td>...</td>\n",
       "      <td>...</td>\n",
       "      <td>...</td>\n",
       "      <td>...</td>\n",
       "      <td>...</td>\n",
       "      <td>...</td>\n",
       "    </tr>\n",
       "    <tr>\n",
       "      <th>17941907</th>\n",
       "      <td>0</td>\n",
       "      <td>0</td>\n",
       "      <td>1459522799990000000</td>\n",
       "      <td>5041791</td>\n",
       "      <td>3127577</td>\n",
       "      <td>7.43</td>\n",
       "      <td>145959990</td>\n",
       "      <td>65</td>\n",
       "      <td>3196869</td>\n",
       "      <td>3000.0</td>\n",
       "      <td>5</td>\n",
       "      <td>600688</td>\n",
       "      <td>83</td>\n",
       "    </tr>\n",
       "    <tr>\n",
       "      <th>17941908</th>\n",
       "      <td>0</td>\n",
       "      <td>0</td>\n",
       "      <td>1459522799990000000</td>\n",
       "      <td>5041792</td>\n",
       "      <td>3127578</td>\n",
       "      <td>13.25</td>\n",
       "      <td>145959990</td>\n",
       "      <td>65</td>\n",
       "      <td>3196870</td>\n",
       "      <td>1000.0</td>\n",
       "      <td>5</td>\n",
       "      <td>601555</td>\n",
       "      <td>83</td>\n",
       "    </tr>\n",
       "    <tr>\n",
       "      <th>17941909</th>\n",
       "      <td>0</td>\n",
       "      <td>0</td>\n",
       "      <td>1459522799990000000</td>\n",
       "      <td>5041793</td>\n",
       "      <td>3127579</td>\n",
       "      <td>55.73</td>\n",
       "      <td>145959990</td>\n",
       "      <td>68</td>\n",
       "      <td>3176800</td>\n",
       "      <td>600.0</td>\n",
       "      <td>5</td>\n",
       "      <td>603678</td>\n",
       "      <td>66</td>\n",
       "    </tr>\n",
       "    <tr>\n",
       "      <th>17941910</th>\n",
       "      <td>0</td>\n",
       "      <td>0</td>\n",
       "      <td>1459522799990000000</td>\n",
       "      <td>5041794</td>\n",
       "      <td>3127580</td>\n",
       "      <td>29.23</td>\n",
       "      <td>145959990</td>\n",
       "      <td>65</td>\n",
       "      <td>3196871</td>\n",
       "      <td>400.0</td>\n",
       "      <td>5</td>\n",
       "      <td>600604</td>\n",
       "      <td>83</td>\n",
       "    </tr>\n",
       "    <tr>\n",
       "      <th>17941911</th>\n",
       "      <td>0</td>\n",
       "      <td>0</td>\n",
       "      <td>1459522799990000000</td>\n",
       "      <td>5041795</td>\n",
       "      <td>3127581</td>\n",
       "      <td>8.21</td>\n",
       "      <td>145959990</td>\n",
       "      <td>65</td>\n",
       "      <td>3196872</td>\n",
       "      <td>1000.0</td>\n",
       "      <td>5</td>\n",
       "      <td>601390</td>\n",
       "      <td>83</td>\n",
       "    </tr>\n",
       "  </tbody>\n",
       "</table>\n",
       "<p>17941912 rows × 13 columns</p>\n",
       "</div>"
      ],
      "text/plain": [
       "          SeqIndex  SendTm              LocalTs  BizIndex  OrderIndex  \\\n",
       "0                0       0  1459502100170000000         1           1   \n",
       "1                0       0  1459502100440000000         2           2   \n",
       "2                0       0  1459502100720000000         3           3   \n",
       "3                0       0  1459502100770000000         4           4   \n",
       "4                0       0  1459502100830000000         5           5   \n",
       "...            ...     ...                  ...       ...         ...   \n",
       "17941907         0       0  1459522799990000000   5041791     3127577   \n",
       "17941908         0       0  1459522799990000000   5041792     3127578   \n",
       "17941909         0       0  1459522799990000000   5041793     3127579   \n",
       "17941910         0       0  1459522799990000000   5041794     3127580   \n",
       "17941911         0       0  1459522799990000000   5041795     3127581   \n",
       "\n",
       "          OrderPx    OrderTm  OrderType  OrderID  OrderVol  ChannelID  Symbol  \\\n",
       "0            9.00   91500170         65       74   92300.0          1  601727   \n",
       "1            9.00   91500440         65      198   71800.0          1  601727   \n",
       "2            9.44   91500720         65      486     200.0          1  601727   \n",
       "3            9.94   91500770         65      570    1000.0          1  601727   \n",
       "4            9.20   91500830         65      710    5000.0          1  601727   \n",
       "...           ...        ...        ...      ...       ...        ...     ...   \n",
       "17941907     7.43  145959990         65  3196869    3000.0          5  600688   \n",
       "17941908    13.25  145959990         65  3196870    1000.0          5  601555   \n",
       "17941909    55.73  145959990         68  3176800     600.0          5  603678   \n",
       "17941910    29.23  145959990         65  3196871     400.0          5  600604   \n",
       "17941911     8.21  145959990         65  3196872    1000.0          5  601390   \n",
       "\n",
       "          SideFlag  \n",
       "0               66  \n",
       "1               66  \n",
       "2               66  \n",
       "3               83  \n",
       "4               66  \n",
       "...            ...  \n",
       "17941907        83  \n",
       "17941908        83  \n",
       "17941909        66  \n",
       "17941910        83  \n",
       "17941911        83  \n",
       "\n",
       "[17941912 rows x 13 columns]"
      ]
     },
     "execution_count": 53,
     "metadata": {},
     "output_type": "execute_result"
    }
   ],
   "source": [
    "len(range(1, 100, 2))\n",
    "len(sids)\n",
    "\n",
    "import pandas as pd\n",
    "\n",
    "df = pd.read_parquet('/mnt/data/sharedata/uni_feather/2016/04/01/ord_SH_20160401.parquet')\n",
    "df"
   ]
  },
  {
   "cell_type": "code",
   "execution_count": 55,
   "metadata": {},
   "outputs": [
    {
     "data": {
      "text/plain": [
       "14.82426665898258"
      ]
     },
     "execution_count": 55,
     "metadata": {},
     "output_type": "execute_result"
    }
   ],
   "source": [
    "df['OrderPx'].mean()"
   ]
  }
 ],
 "metadata": {
  "kernelspec": {
   "display_name": "jupyterhub",
   "language": "python",
   "name": "python3"
  },
  "language_info": {
   "codemirror_mode": {
    "name": "ipython",
    "version": 3
   },
   "file_extension": ".py",
   "mimetype": "text/x-python",
   "name": "python",
   "nbconvert_exporter": "python",
   "pygments_lexer": "ipython3",
   "version": "3.8.5"
  },
  "orig_nbformat": 4
 },
 "nbformat": 4,
 "nbformat_minor": 2
}
